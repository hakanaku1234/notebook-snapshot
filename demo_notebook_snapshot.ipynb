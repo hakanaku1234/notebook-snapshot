{
 "cells": [
  {
   "cell_type": "code",
   "execution_count": 1,
   "metadata": {},
   "outputs": [],
   "source": [
    "%load_ext autoreload\n",
    "%autoreload 2"
   ]
  },
  {
   "cell_type": "code",
   "execution_count": 2,
   "metadata": {},
   "outputs": [],
   "source": [
    "from notebook_snapshot import Template, Params, snapshot, execute, move"
   ]
  },
  {
   "cell_type": "markdown",
   "metadata": {},
   "source": [
    "## Execute notebook\n",
    "+ By default a tag `yyyymmdd_hhmmss.ms` is prepended to the executed notebook - for book keeping\n",
    "+ To execute it in place with set `dated=True`\n"
   ]
  },
  {
   "cell_type": "code",
   "execution_count": 3,
   "metadata": {},
   "outputs": [
    {
     "data": {
      "text/markdown": [
       "Notebook **sample_notebook.ipynb** run and saved as **20171227_171328.236_sample_notebook.ipynb**"
      ],
      "text/plain": [
       "<IPython.core.display.Markdown object>"
      ]
     },
     "metadata": {},
     "output_type": "display_data"
    },
    {
     "name": "stdout",
     "output_type": "stream",
     "text": [
      "20171227_171328.236_sample_notebook.ipynb\n",
      "20171227_171328.236\n"
     ]
    }
   ],
   "source": [
    "path_in = 'sample_notebook.ipynb'\n",
    "path_nb, tag = execute(path_in, verbose=True)\n",
    "print(path_nb)\n",
    "print(tag)"
   ]
  },
  {
   "cell_type": "markdown",
   "metadata": {},
   "source": [
    "## Configure template\n",
    "+ Params is a helper class to use with the template inside notebook_snapshot"
   ]
  },
  {
   "cell_type": "code",
   "execution_count": 4,
   "metadata": {},
   "outputs": [
    {
     "data": {
      "text/plain": [
       "{'is_ribbon': True, 'ribbon_color': 'orange', 'ribbon_text': 'Test', 'ribbon_position': 'top-left', 'hide_code': False, 'important_border': '3px', 'important_color': 'red', 'important_background_color': '#f7f7f7', 'valid': True}"
      ]
     },
     "execution_count": 4,
     "metadata": {},
     "output_type": "execute_result"
    }
   ],
   "source": [
    "p = Params(**{'is_ribbon': True, 'ribbon_text': 'Test', 'hide_code': False,\n",
    "              'ribbon_position': 'top-left', 'ribbon_color': 'orange'})\n",
    "p"
   ]
  },
  {
   "cell_type": "markdown",
   "metadata": {},
   "source": [
    "## Build template\n",
    "+ Most likely just pass the Params object\n",
    "+ You may also pass a jinja template string `template_str` and its params as a `dict`\n",
    "    + See the notebook_snapshot [template](TBD) for inspiration"
   ]
  },
  {
   "cell_type": "code",
   "execution_count": 5,
   "metadata": {
    "scrolled": false
   },
   "outputs": [
    {
     "data": {
      "text/plain": [
       "'dump/my_template.tpl'"
      ]
     },
     "execution_count": 5,
     "metadata": {},
     "output_type": "execute_result"
    }
   ],
   "source": [
    "t = Template(params=p)\n",
    "t.save()\n",
    "t.path"
   ]
  },
  {
   "cell_type": "markdown",
   "metadata": {},
   "source": [
    "## Snapshot notebook\n",
    "+ To apply custom settings set `path_template` to the template path just created\n",
    "+ To burn the images into the html set `embed_img=True`\n",
    "    + *Note:* The notebook must be in its original environment to find the images relative links"
   ]
  },
  {
   "cell_type": "code",
   "execution_count": 6,
   "metadata": {},
   "outputs": [
    {
     "name": "stdout",
     "output_type": "stream",
     "text": [
      "jupyter nbconvert --to notebook_snapshot.html_embed_img --template dump/my_template.tpl 20171227_171328.236_sample_notebook.ipynb\n"
     ]
    },
    {
     "name": "stderr",
     "output_type": "stream",
     "text": [
      "[NbConvertApp] Converting notebook 20171227_171328.236_sample_notebook.ipynb to notebook_snapshot.html_embed_img\n",
      "[NbConvertApp] try embedding url: img/firefox_2017.png, format: png\n",
      "[NbConvertApp] try embedding url: img/chart.png, format: png\n",
      "[NbConvertApp] try embedding url: img/chart.png, format: png\n",
      "[NbConvertApp] try embedding url: attachment:firefox_2017.png, format: png\n",
      "[NbConvertApp] Writing 1381586 bytes to 20171227_171328.236_sample_notebook.html\n"
     ]
    }
   ],
   "source": [
    "snapshot(path_nb, path_template=t.path, embed_img=True)"
   ]
  },
  {
   "cell_type": "code",
   "execution_count": 7,
   "metadata": {},
   "outputs": [
    {
     "name": "stdout",
     "output_type": "stream",
     "text": [
      "Moved the files below to folder store\n",
      "20171227_171328.236_sample_notebook.ipynb\n",
      "20171227_171328.236_sample_notebook.html\n"
     ]
    }
   ],
   "source": [
    "move(tag, folder='store', verbose=True)"
   ]
  },
  {
   "cell_type": "code",
   "execution_count": null,
   "metadata": {},
   "outputs": [],
   "source": []
  }
 ],
 "metadata": {
  "kernelspec": {
   "display_name": "Python 3",
   "language": "python",
   "name": "python3"
  },
  "language_info": {
   "codemirror_mode": {
    "name": "ipython",
    "version": 3
   },
   "file_extension": ".py",
   "mimetype": "text/x-python",
   "name": "python",
   "nbconvert_exporter": "python",
   "pygments_lexer": "ipython3",
   "version": "3.6.3"
  }
 },
 "nbformat": 4,
 "nbformat_minor": 2
}
